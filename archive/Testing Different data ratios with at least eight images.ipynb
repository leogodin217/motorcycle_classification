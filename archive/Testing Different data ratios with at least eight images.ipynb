{
 "cells": [
  {
   "cell_type": "code",
   "execution_count": 30,
   "metadata": {},
   "outputs": [],
   "source": [
    "# Python setup\n",
    "%reload_ext autoreload\n",
    "%autoreload 2\n",
    "%matplotlib inline\n",
    "import matplotlib.pyplot as plt\n",
    "from pathlib import Path\n",
    "from torchvision import transforms\n",
    "from torchvision import datasets\n",
    "from torch.utils.data import DataLoader, Sampler, Subset\n",
    "from torchvision import models\n",
    "import torch.nn as nn\n",
    "from torch import optim, cuda\n",
    "import torch\n",
    "from datetime import datetime\n",
    "import pandas as pd"
   ]
  },
  {
   "cell_type": "code",
   "execution_count": 31,
   "metadata": {},
   "outputs": [],
   "source": [
    "# Setting up paths\n",
    "base_path = Path('./clean_data/').absolute()\n",
    "raw_base_path = base_path / 'eight_min'\n",
    "raw_train_path = str(raw_base_path / 'train')\n",
    "raw_val_path = str(raw_base_path / 'val')\n",
    "raw_test_path = str(raw_base_path / 'test')\n",
    "\n",
    "raw_base_path_balanced = base_path / 'eight_min_balanced'\n",
    "raw_train_path_balanced = str(raw_base_path_balanced / 'train')\n",
    "raw_val_path_balanced = str(raw_base_path_balanced / 'val')\n",
    "raw_test_path_balanced = str(raw_base_path_balanced / 'test')\n",
    "\n",
    "raw_base_path_nonbalanced = base_path / 'eight_min_nonbalanced'\n",
    "raw_train_path_nonbalanced = str(raw_base_path_nonbalanced / 'train')\n",
    "raw_val_path_nonbalanced = str(raw_base_path_nonbalanced / 'val')\n",
    "raw_test_path_nonbalanced = str(raw_base_path_nonbalanced / 'test')"
   ]
  },
  {
   "cell_type": "code",
   "execution_count": 70,
   "metadata": {},
   "outputs": [],
   "source": [
    "def get_model(num_classes, model_type):\n",
    "    '''\n",
    "    Creates a resnet-50 pretrained model and replaces the classifier with a new classifier\n",
    "    '''\n",
    "    model = models.resnet34(pretrained=True)\n",
    "\n",
    "    for param in model.parameters():\n",
    "        param.requires_grad = False\n",
    "\n",
    "    num_inputs = model.fc.in_features\n",
    "    model.fc = nn.Sequential(nn.Linear(num_inputs, 256),\n",
    "                                       nn.ReLU(),\n",
    "                                       nn.BatchNorm1d(256),\n",
    "                                       # Get rid of dropout. I will re-evaluate later\n",
    "                                       #nn.Dropout(0.4),\n",
    "                                       nn.Linear(256, num_classes),\n",
    "                                       nn.BatchNorm1d(num_classes),\n",
    "                                       nn.LogSoftmax(dim=1))\n",
    "    # Move to the GPU\n",
    "    model = model.to('cuda')\n",
    "    return model"
   ]
  },
  {
   "cell_type": "code",
   "execution_count": 63,
   "metadata": {},
   "outputs": [],
   "source": [
    "def forward_pass(model, dataloader, criterion, num_images, clear_cuda_cache=True):\n",
    "    '''\n",
    "    Performs a forward pass getting loss and accuracy, without modifying the model\n",
    "    model: A pytorch NN \n",
    "    data A pytorch Dataloader\n",
    "    clear_cuda_cache: Do we want to clear cuda memory when possible?\n",
    "    num_images: Int representing the number of images being processed. This is needed because\n",
    "                a sampler might return fewer results than the total dataset.\n",
    "    '''\n",
    "    total_loss = 0\n",
    "   \n",
    "    with torch.no_grad():\n",
    "        model.eval()\n",
    "        \n",
    "        for data, target in dataloader:\n",
    "            data = data.to('cuda')\n",
    "            target = target.to('cuda')\n",
    "            result = model(data)\n",
    "            loss = criterion(result, target)\n",
    "            batch_loss = loss.item() * data.size(0)\n",
    "            total_loss += batch_loss\n",
    "            if clear_cuda_cache is True:\n",
    "                data = None\n",
    "                target = None\n",
    "                cuda.empty_cache()\n",
    "    mean_loss = total_loss / num_images\n",
    "    return({'mean_loss': mean_loss})\n",
    "        "
   ]
  },
  {
   "cell_type": "code",
   "execution_count": 64,
   "metadata": {},
   "outputs": [],
   "source": [
    "def get_accuracy(model, dataloader, num_images, clear_cuda_cache=True):\n",
    "    '''\n",
    "    Performs a forward pass getting loss and accuracy, without modifying the model\n",
    "    model: A pytorch NN \n",
    "    data A pytorch Dataloader\n",
    "    clear_cuda_cache: Do we want to clear cuda memory when possible?\n",
    "    num_images: Int representing the number of images being processed. This is needed because\n",
    "                a sampler might return fewer results than the total dataset.\n",
    "    '''\n",
    "    \n",
    "    correct_predictions = 0\n",
    "    with torch.no_grad():\n",
    "        model.eval()\n",
    "        \n",
    "        for data, target in dataloader:\n",
    "            data = data.to('cuda')\n",
    "            target = target.to('cuda')\n",
    "            result = model(data)\n",
    "            _, predicted = torch.max(result.data, 1)\n",
    "            # Get accurate images\n",
    "            correct_predictions += (predicted == target).sum().item()\n",
    "            if clear_cuda_cache is True:\n",
    "                data = None\n",
    "                target = None\n",
    "                cuda.empty_cache()\n",
    "    return correct_predictions / num_images"
   ]
  },
  {
   "cell_type": "code",
   "execution_count": 65,
   "metadata": {},
   "outputs": [],
   "source": [
    "# See https://machinelearningmastery.com/adam-optimization-algorithm-for-deep-learning/ for hyperparameters\n",
    "# hyper parameters are set to the research recommendations\n",
    "def basic_train_model(dataloaders, epochs, clear_cuda_cache=True, name='basic model',\n",
    "                      alpha=.001, beta1=0.9, beta2=0.999, epsilon=10e-8, weight_decay=0):\n",
    "    '''\n",
    "    Very-early training function. Not much here, but the basics to train the\n",
    "    model and report loss and cuda memory\n",
    "    dataloader: A Pytorch dataloader with train, validation and test datasets. All dataloaders\n",
    "                should have the same number of classes\n",
    "    clear_cuda_cache: Boolean telling us to clear the cuda cache when possible\n",
    "    name: String with a name to give the model.\n",
    "    '''\n",
    "    all_start_time = datetime.now()\n",
    "    results = []\n",
    "    cuda_memory = []\n",
    "    \n",
    "    # The model changes with the number of classes, so we need to get that number.\n",
    "    # A dataset with a sampler, may not include all classes in the dataset, so we\n",
    "    # need to iterate to find the distinct classes\n",
    "    # We also need the number of images, with the same constraints as classes. We\n",
    "    # will calculate it here for accuracy\n",
    "    included_classes = []\n",
    "    num_images = 0\n",
    "    print('Gathering configurations')\n",
    "    config_start_time = datetime.now()\n",
    "    for item in dataloaders['train']:\n",
    "        included_classes = included_classes + item[1].tolist()\n",
    "        num_images += len(item[1])\n",
    "    num_classes = len(set(included_classes))\n",
    "    \n",
    "    # Get the number of val images returned in the dataloader. It could be a subset of the dataset if a sampler\n",
    "    # is used\n",
    "    num_val_images = 0\n",
    "    for item in dataloaders['val']:\n",
    "        num_val_images += len(item[1])\n",
    "        \n",
    "    # Get the number of images returned in the dataloader. It could be a subset of the dataset if a sampler\n",
    "    # is used\n",
    "    num_test_images = 0\n",
    "    for item in dataloaders['test']:\n",
    "        num_test_images += len(item[1])\n",
    "    config_end_time = datetime.now()\n",
    "    print(f\"Configuration: {config_end_time - config_start_time}\")\n",
    "    \n",
    "    print('Preparing model')\n",
    "    model_start_time = datetime.now()\n",
    "    model = get_model(num_classes)\n",
    "\n",
    "    criterion = nn.NLLLoss()\n",
    "    optimizer = optim.Adam(model.parameters(), lr=alpha, betas=(beta1, beta2), \n",
    "                           eps=epsilon, weight_decay=weight_decay)\n",
    "    model_end_time = datetime.now()\n",
    "    print(f'Model preparation: {model_end_time - model_start_time}')\n",
    "    for epoch in range(epochs):\n",
    "        epoch_start = datetime.now()\n",
    "        #print(f'Epoch: {epoch + 1}')\n",
    "        train_loss = 0.0\n",
    "        for data, targets in dataloaders['train']:\n",
    "            #Get cuda memory\n",
    "            cuda_memory.append({\n",
    "                'name': name,\n",
    "                'timestamp': datetime.now(),\n",
    "                'cuda_memory': cuda.memory_allocated()})\n",
    "            data = data.to('cuda')\n",
    "            targets = targets.to('cuda')\n",
    "            cuda_memory.append({\n",
    "                'name': name,\n",
    "                'timestamp': datetime.now(),\n",
    "                'cuda_memory': cuda.memory_allocated()})\n",
    "            # Clear the gradients\n",
    "            optimizer.zero_grad()\n",
    "            out = model(data)\n",
    "            loss = criterion(out, targets)\n",
    "            loss.backward()\n",
    "            # Get loss for the batch\n",
    "            batch_loss = loss.item() * data.size(0)\n",
    "            train_loss += batch_loss\n",
    "            optimizer.step()\n",
    "            #Get cuda memory\n",
    "            cuda_memory.append({\n",
    "                'name': name,\n",
    "                'timestamp': datetime.now(),\n",
    "                'cuda_memory': cuda.memory_allocated()})\n",
    "            # Clear the batch from cuda memory. It is no longer needed\n",
    "            if clear_cuda_cache is True:\n",
    "                data = None\n",
    "                targets = None\n",
    "                cuda.empty_cache()\n",
    "        \n",
    "        mean_train_loss = round(train_loss / num_images, 6)\n",
    "\n",
    "        # Get train accuracy to see if the model is learning at all\n",
    "        #train_accuracy = get_accuracy(model, dataloaders['train'], num_images)\n",
    "        # Get validation loss\n",
    "       \n",
    "        validation_results = forward_pass(model, dataloaders['val'], criterion, num_images=num_val_images,\n",
    "                                          clear_cuda_cache=clear_cuda_cache)\n",
    "        mean_val_loss = round(validation_results['mean_loss'], 6)\n",
    "        # Get test accuracy\n",
    "        test_accuracy = round(get_accuracy(model, dataloaders['test'], num_test_images), 6)\n",
    "        epoch_end = datetime.now()\n",
    "        print(f'Epoch {epoch + 1}, Train loss: {mean_train_loss}, Val loss: {mean_val_loss}, Test Accuracy: {test_accuracy}')\n",
    "        results.append({\n",
    "            'epoch': epoch + 1,\n",
    "            'epoch_run_time': epoch_end - epoch_start,\n",
    "            'train_loss': mean_train_loss,\n",
    "            'val_loss': mean_val_loss,\n",
    "            'test_accuracy': test_accuracy})\n",
    "        \n",
    "    all_end_time = datetime.now()\n",
    "    return {'model': model, 'name': name, 'results': results, 'cuda_memory': cuda_memory, \n",
    "            'run_time': all_end_time - all_start_time, 'config_run_time': config_end_time - config_start_time,\n",
    "            'model_run_time': model_end_time - model_start_time}"
   ]
  },
  {
   "cell_type": "code",
   "execution_count": 66,
   "metadata": {},
   "outputs": [],
   "source": [
    "\n",
    "batch_size = 256\n",
    "\n",
    "basic_transforms = {\n",
    "    'train': transforms.Compose([\n",
    "        transforms.Resize(size=256),\n",
    "        transforms.CenterCrop(size=224),\n",
    "        transforms.ToTensor(),\n",
    "        # Normalize using same mean, std as imagenet\n",
    "        transforms.Normalize([0.485, 0.456, 0.406], [0.229, 0.224, 0.225])\n",
    "    ]),\n",
    "    'valid': transforms.Compose([\n",
    "        transforms.Resize(size=256),\n",
    "        transforms.CenterCrop(size=224),\n",
    "        transforms.ToTensor(),\n",
    "        # Normalize using same mean, std as ResNet\n",
    "        transforms.Normalize([0.485, 0.456, 0.406], [0.229, 0.224, 0.225])\n",
    "    ])\n",
    "}\n",
    "basic_data = {\n",
    "    'train': datasets.ImageFolder(root=raw_train_path, transform = basic_transforms['train'] ),\n",
    "    'valid': datasets.ImageFolder(root=raw_val_path, transform = basic_transforms['valid']),\n",
    "    'test': datasets.ImageFolder(root=raw_test_path, transform = basic_transforms['valid'])\n",
    "}\n",
    "\n",
    "basic_dataloaders = {\n",
    "    'train': DataLoader(basic_data['train'], batch_size=batch_size, shuffle=True),\n",
    "    'val': DataLoader(basic_data['valid'], batch_size=batch_size, shuffle=True),\n",
    "    'test': DataLoader(basic_data['test'], batch_size=batch_size, shuffle=True),\n",
    "    \n",
    "}\n",
    "\n",
    "complex_transforms = {\n",
    "    'train': transforms.Compose([\n",
    "        transforms.RandomResizedCrop(size=256, scale=(0.8, 1.0)),\n",
    "        transforms.RandomRotation(degrees=15),\n",
    "        transforms.ColorJitter(),\n",
    "        transforms.RandomHorizontalFlip(),\n",
    "        transforms.CenterCrop(size=224),\n",
    "        transforms.ToTensor(),\n",
    "        # Normalize using same mean, std as imagenet\n",
    "        transforms.Normalize([0.485, 0.456, 0.406], [0.229, 0.224, 0.225])\n",
    "    ]),\n",
    "    'valid': transforms.Compose([\n",
    "        transforms.Resize(size=256),\n",
    "        transforms.CenterCrop(size=224),\n",
    "        transforms.ToTensor(),\n",
    "        # Normalize using same mean, std as ResNet\n",
    "        transforms.Normalize([0.485, 0.456, 0.406], [0.229, 0.224, 0.225])\n",
    "    ])\n",
    "}\n",
    "complex_data = {\n",
    "    'train': datasets.ImageFolder(root=raw_train_path, transform = complex_transforms['train'] ),\n",
    "    'valid': datasets.ImageFolder(root=raw_val_path, transform = complex_transforms['valid']),\n",
    "     'test': datasets.ImageFolder(root=raw_test_path, transform = complex_transforms['valid'])\n",
    "}\n",
    "\n",
    "complex_dataloaders = {\n",
    "    'train': DataLoader(complex_data['train'], batch_size=batch_size, shuffle=True),\n",
    "    'val': DataLoader(complex_data['valid'], batch_size=batch_size, shuffle=True),\n",
    "    'test': DataLoader(complex_data['test'], batch_size=batch_size, shuffle=True)\n",
    "}\n",
    "\n",
    "complex_data_balanced = {\n",
    "    'train': datasets.ImageFolder(root=raw_train_path_balanced, transform = complex_transforms['train'] ),\n",
    "    'valid': datasets.ImageFolder(root=raw_val_path_balanced, transform = complex_transforms['valid']),\n",
    "     'test': datasets.ImageFolder(root=raw_test_path_balanced, transform = complex_transforms['valid'])\n",
    "}\n",
    "\n",
    "complex_dataloaders_balanced = {\n",
    "    'train': DataLoader(complex_data_balanced['train'], batch_size=batch_size, shuffle=True),\n",
    "    'val': DataLoader(complex_data_balanced['valid'], batch_size=batch_size, shuffle=True),\n",
    "    'test': DataLoader(complex_data_balanced['test'], batch_size=batch_size, shuffle=True)\n",
    "}\n",
    "\n",
    "complex_data_nonbalanced = {\n",
    "    'train': datasets.ImageFolder(root=raw_train_path_balanced, transform = complex_transforms['train'] ),\n",
    "    'valid': datasets.ImageFolder(root=raw_val_path_balanced, transform = complex_transforms['valid']),\n",
    "     'test': datasets.ImageFolder(root=raw_test_path_balanced, transform = complex_transforms['valid'])\n",
    "}\n",
    "\n",
    "complex_dataloaders_nonbalanced = {\n",
    "    'train': DataLoader(complex_data_nonbalanced['train'], batch_size=batch_size, shuffle=True),\n",
    "    'val': DataLoader(complex_data_nonbalanced['valid'], batch_size=batch_size, shuffle=True),\n",
    "    'test': DataLoader(complex_data_nonbalanced['test'], batch_size=batch_size, shuffle=True)\n",
    "}\n"
   ]
  },
  {
   "cell_type": "code",
   "execution_count": 67,
   "metadata": {},
   "outputs": [],
   "source": [
    "class TargetSampler(Sampler):\n",
    "    '''\n",
    "    Sampler base on the number of targets we want. Rather than random sampling from all \n",
    "    targets, which may not have the same targets as test and train, we pull all images from \n",
    "    the first x number of targets\n",
    "    \n",
    "    This was extremely slow at first, because I was iterating through the data instead of \n",
    "    just the targets. Now it takes no noticable time\n",
    "\n",
    "    '''\n",
    "    def __init__(self, data, num_targets):\n",
    "        '''\n",
    "        data: A pytorch dataset (In this case, an ImageFolder)\n",
    "        num_targets: Int representing the first X targets to use.\n",
    "        '''\n",
    "        self.num_targets = num_targets\n",
    "        self.data = data\n",
    "    \n",
    "    def __iter__(self):\n",
    "        indices = []\n",
    "        for index, target in enumerate(self.data.targets):\n",
    "            # Add the indice if the target is in range\n",
    "            if target < self.num_targets:\n",
    "                indices.append(index)\n",
    "        return iter(indices)\n",
    "    \n",
    "    def __len__(self):\n",
    "        # Count the number of images in the target range\n",
    "        # The image is a tuple, with image[1] being the target\n",
    "        return len([i for i in self.data.targets if i < self.num_targets])\n"
   ]
  },
  {
   "cell_type": "code",
   "execution_count": 68,
   "metadata": {},
   "outputs": [],
   "source": [
    "num_targets = 100\n",
    "num_epochs = 20\n",
    "batch_size = 128"
   ]
  },
  {
   "cell_type": "code",
   "execution_count": 71,
   "metadata": {},
   "outputs": [
    {
     "name": "stdout",
     "output_type": "stream",
     "text": [
      "Gathering configurations\n",
      "Configuration: 0:00:51.214641\n",
      "Preparing model\n",
      "Model preparation: 0:00:00.965693\n",
      "Epoch 1, Train loss: 4.769719, Val loss: 4.583186, Test Accuracy: 0.030151\n",
      "Epoch 2, Train loss: 4.573618, Val loss: 4.561867, Test Accuracy: 0.025126\n",
      "Epoch 3, Train loss: 4.524665, Val loss: 4.539325, Test Accuracy: 0.040201\n",
      "Epoch 4, Train loss: 4.486957, Val loss: 4.518143, Test Accuracy: 0.075377\n",
      "Epoch 5, Train loss: 4.445191, Val loss: 4.496691, Test Accuracy: 0.085427\n",
      "Epoch 6, Train loss: 4.408439, Val loss: 4.473701, Test Accuracy: 0.090452\n",
      "Epoch 7, Train loss: 4.364714, Val loss: 4.449239, Test Accuracy: 0.100503\n",
      "Epoch 8, Train loss: 4.319672, Val loss: 4.42113, Test Accuracy: 0.100503\n",
      "Epoch 9, Train loss: 4.274324, Val loss: 4.390349, Test Accuracy: 0.135678\n",
      "Epoch 10, Train loss: 4.221363, Val loss: 4.3579, Test Accuracy: 0.145729\n",
      "Epoch 11, Train loss: 4.168915, Val loss: 4.322914, Test Accuracy: 0.155779\n",
      "Epoch 12, Train loss: 4.118514, Val loss: 4.285648, Test Accuracy: 0.165829\n",
      "Epoch 13, Train loss: 4.041201, Val loss: 4.244775, Test Accuracy: 0.160804\n",
      "Epoch 14, Train loss: 3.99013, Val loss: 4.200217, Test Accuracy: 0.165829\n",
      "Epoch 15, Train loss: 3.907464, Val loss: 4.152458, Test Accuracy: 0.190955\n",
      "Epoch 16, Train loss: 3.837754, Val loss: 4.101693, Test Accuracy: 0.190955\n",
      "Epoch 17, Train loss: 3.742893, Val loss: 4.049136, Test Accuracy: 0.18593\n",
      "Epoch 18, Train loss: 3.662684, Val loss: 3.994987, Test Accuracy: 0.180905\n",
      "Epoch 19, Train loss: 3.57357, Val loss: 3.938058, Test Accuracy: 0.190955\n",
      "Epoch 20, Train loss: 3.480566, Val loss: 3.878527, Test Accuracy: 0.211055\n",
      "0:18:27.721713\n"
     ]
    }
   ],
   "source": [
    "train_sampler = TargetSampler(complex_data['train'], num_targets=num_targets)\n",
    "val_sampler = TargetSampler(complex_data['valid'], num_targets=num_targets)\n",
    "test_sampler = TargetSampler(complex_data['test'], num_targets=num_targets)\n",
    "\n",
    "one_hundred_target_complex_dataloaders = {\n",
    "    'train': DataLoader(complex_data['train'], batch_size=batch_size, sampler=train_sampler, shuffle=False),\n",
    "    'val': DataLoader(complex_data['valid'], batch_size=batch_size, sampler=val_sampler, shuffle=False),\n",
    "    'test': DataLoader(complex_data['test'], batch_size=batch_size, sampler=test_sampler, shuffle=False)\n",
    "}\n",
    "\n",
    "\n",
    "basic_data_complex_transforms = basic_train_model(dataloaders=one_hundred_target_complex_dataloaders, epochs=num_epochs, alpha=0.001,\n",
    "                                     name='100 targets with basic data, complex transforms', clear_cuda_cache=True)\n",
    "print(basic_data_complex_transforms['run_time'])\n",
    "# Clear the cache\n",
    "basic_data_complex_transforms['model'] = None\n",
    "cuda.empty_cache()"
   ]
  },
  {
   "cell_type": "code",
   "execution_count": 72,
   "metadata": {},
   "outputs": [
    {
     "data": {
      "text/plain": [
       "<matplotlib.axes._subplots.AxesSubplot at 0x2b98a9e3668>"
      ]
     },
     "execution_count": 72,
     "metadata": {},
     "output_type": "execute_result"
    },
    {
     "data": {
      "image/png": "[encoded data removed]",
      "text/plain": [
       "<Figure size 432x288 with 1 Axes>"
      ]
     },
     "metadata": {
      "needs_background": "light"
     },
     "output_type": "display_data"
    }
   ],
   "source": [
    "bdct = pd.DataFrame(basic_data_complex_transforms['results'])\n",
    "bdct = bdct[['epoch', 'train_loss', 'val_loss', 'test_accuracy']]\n",
    "bdct = bdct.set_index('epoch')\n",
    "bdct.plot(title='Basic Data, Complex Transforms 100 epochs')"
   ]
  },
  {
   "cell_type": "markdown",
   "metadata": {},
   "source": [
    "## Using balanced data (.3 val and test)"
   ]
  },
  {
   "cell_type": "code",
   "execution_count": 73,
   "metadata": {},
   "outputs": [
    {
     "name": "stdout",
     "output_type": "stream",
     "text": [
      "Gathering configurations\n",
      "Configuration: 0:01:31.798705\n",
      "Preparing model\n",
      "Model preparation: 0:00:01.048691\n",
      "Epoch 1, Train loss: 4.750188, Val loss: 4.583498, Test Accuracy: 0.02\n",
      "Epoch 2, Train loss: 4.559178, Val loss: 4.559785, Test Accuracy: 0.036\n",
      "Epoch 3, Train loss: 4.513398, Val loss: 4.536567, Test Accuracy: 0.04\n",
      "Epoch 4, Train loss: 4.467363, Val loss: 4.512949, Test Accuracy: 0.046\n",
      "Epoch 5, Train loss: 4.421967, Val loss: 4.487819, Test Accuracy: 0.058\n",
      "Epoch 6, Train loss: 4.378866, Val loss: 4.460041, Test Accuracy: 0.098\n",
      "Epoch 7, Train loss: 4.340648, Val loss: 4.429413, Test Accuracy: 0.122\n",
      "Epoch 8, Train loss: 4.296092, Val loss: 4.396491, Test Accuracy: 0.144\n",
      "Epoch 9, Train loss: 4.242362, Val loss: 4.361181, Test Accuracy: 0.154\n",
      "Epoch 10, Train loss: 4.189789, Val loss: 4.323944, Test Accuracy: 0.162\n",
      "Epoch 11, Train loss: 4.130375, Val loss: 4.284881, Test Accuracy: 0.176\n",
      "Epoch 12, Train loss: 4.076591, Val loss: 4.242801, Test Accuracy: 0.192\n",
      "Epoch 13, Train loss: 4.002252, Val loss: 4.197412, Test Accuracy: 0.21\n",
      "Epoch 14, Train loss: 3.93852, Val loss: 4.148231, Test Accuracy: 0.222\n",
      "Epoch 15, Train loss: 3.866792, Val loss: 4.095068, Test Accuracy: 0.228\n",
      "Epoch 16, Train loss: 3.797269, Val loss: 4.036426, Test Accuracy: 0.236\n",
      "Epoch 17, Train loss: 3.702679, Val loss: 3.973863, Test Accuracy: 0.24\n",
      "Epoch 18, Train loss: 3.612495, Val loss: 3.909447, Test Accuracy: 0.248\n",
      "Epoch 19, Train loss: 3.541783, Val loss: 3.843396, Test Accuracy: 0.27\n",
      "Epoch 20, Train loss: 3.431594, Val loss: 3.775865, Test Accuracy: 0.284\n",
      "0:32:45.945575\n"
     ]
    }
   ],
   "source": [
    "train_sampler = TargetSampler(complex_data_balanced['train'], num_targets=num_targets)\n",
    "val_sampler = TargetSampler(complex_data_balanced['valid'], num_targets=num_targets)\n",
    "test_sampler = TargetSampler(complex_data_balanced['test'], num_targets=num_targets)\n",
    "\n",
    "one_hundred_target_complex_dataloaders_balanced = {\n",
    "    'train': DataLoader(complex_data_balanced['train'], batch_size=batch_size, sampler=train_sampler, shuffle=False),\n",
    "    'val': DataLoader(complex_data_balanced['valid'], batch_size=batch_size, sampler=val_sampler, shuffle=False),\n",
    "    'test': DataLoader(complex_data_balanced['test'], batch_size=batch_size, sampler=test_sampler, shuffle=False)\n",
    "}\n",
    "\n",
    "\n",
    "basic_data_complex_transforms_balanced = basic_train_model(dataloaders=one_hundred_target_complex_dataloaders_balanced, epochs=num_epochs, alpha=0.001,\n",
    "                                         name='100 targets with balanced data, complex transforms', clear_cuda_cache=True)\n",
    "print(basic_data_complex_transforms_balanced['run_time'])\n",
    "# Clear the cache\n",
    "basic_data_complex_transforms_balanced['model'] = None\n",
    "cuda.empty_cache()"
   ]
  },
  {
   "cell_type": "code",
   "execution_count": 74,
   "metadata": {},
   "outputs": [
    {
     "data": {
      "text/plain": [
       "<matplotlib.axes._subplots.AxesSubplot at 0x2b9872f7eb8>"
      ]
     },
     "execution_count": 74,
     "metadata": {},
     "output_type": "execute_result"
    },
    {
     "data": {
      "image/png": "[encoded data removed]",
      "text/plain": [
       "<Figure size 432x288 with 1 Axes>"
      ]
     },
     "metadata": {
      "needs_background": "light"
     },
     "output_type": "display_data"
    }
   ],
   "source": [
    "bdctb = pd.DataFrame(basic_data_complex_transforms_balanced['results'])\n",
    "bdctb = bdctb[['epoch', 'train_loss', 'val_loss', 'test_accuracy']]\n",
    "bdctb = bdctb.set_index('epoch')\n",
    "bdctb.plot(title='Balanced Data, Complex Transforms 100 epochs')"
   ]
  },
  {
   "cell_type": "markdown",
   "metadata": {},
   "source": [
    "## Unbalanced data (.1 val and test)"
   ]
  },
  {
   "cell_type": "code",
   "execution_count": 75,
   "metadata": {},
   "outputs": [
    {
     "name": "stdout",
     "output_type": "stream",
     "text": [
      "Gathering configurations\n",
      "Configuration: 0:01:21.394014\n",
      "Preparing model\n",
      "Model preparation: 0:00:01.040671\n",
      "Epoch 1, Train loss: 4.79608, Val loss: 4.575837, Test Accuracy: 0.024\n",
      "Epoch 2, Train loss: 4.564555, Val loss: 4.543264, Test Accuracy: 0.044\n",
      "Epoch 3, Train loss: 4.512298, Val loss: 4.514378, Test Accuracy: 0.05\n",
      "Epoch 4, Train loss: 4.463428, Val loss: 4.488321, Test Accuracy: 0.062\n",
      "Epoch 5, Train loss: 4.414643, Val loss: 4.464215, Test Accuracy: 0.074\n",
      "Epoch 6, Train loss: 4.371183, Val loss: 4.439622, Test Accuracy: 0.074\n",
      "Epoch 7, Train loss: 4.338594, Val loss: 4.411869, Test Accuracy: 0.078\n",
      "Epoch 8, Train loss: 4.285907, Val loss: 4.38034, Test Accuracy: 0.09\n",
      "Epoch 9, Train loss: 4.232764, Val loss: 4.346188, Test Accuracy: 0.106\n",
      "Epoch 10, Train loss: 4.187243, Val loss: 4.30947, Test Accuracy: 0.124\n",
      "Epoch 11, Train loss: 4.125798, Val loss: 4.270483, Test Accuracy: 0.128\n",
      "Epoch 12, Train loss: 4.057892, Val loss: 4.228518, Test Accuracy: 0.148\n",
      "Epoch 13, Train loss: 4.003809, Val loss: 4.183111, Test Accuracy: 0.156\n",
      "Epoch 14, Train loss: 3.941181, Val loss: 4.135423, Test Accuracy: 0.16\n",
      "Epoch 15, Train loss: 3.866148, Val loss: 4.08569, Test Accuracy: 0.164\n",
      "Epoch 16, Train loss: 3.798468, Val loss: 4.032052, Test Accuracy: 0.178\n",
      "Epoch 17, Train loss: 3.707661, Val loss: 3.975404, Test Accuracy: 0.188\n",
      "Epoch 18, Train loss: 3.64395, Val loss: 3.914443, Test Accuracy: 0.198\n",
      "Epoch 19, Train loss: 3.579711, Val loss: 3.851838, Test Accuracy: 0.214\n",
      "Epoch 20, Train loss: 3.481128, Val loss: 3.788537, Test Accuracy: 0.228\n",
      "0:30:03.723775\n"
     ]
    }
   ],
   "source": [
    "train_sampler = TargetSampler(complex_data_nonbalanced['train'], num_targets=num_targets)\n",
    "val_sampler = TargetSampler(complex_data_nonbalanced['valid'], num_targets=num_targets)\n",
    "test_sampler = TargetSampler(complex_data_nonbalanced['test'], num_targets=num_targets)\n",
    "\n",
    "one_hundred_target_complex_dataloaders_nonbalanced = {\n",
    "    'train': DataLoader(complex_data_nonbalanced['train'], batch_size=batch_size, sampler=train_sampler, shuffle=False),\n",
    "    'val': DataLoader(complex_data_nonbalanced['valid'], batch_size=batch_size, sampler=val_sampler, shuffle=False),\n",
    "    'test': DataLoader(complex_data_nonbalanced['test'], batch_size=batch_size, sampler=test_sampler, shuffle=False)\n",
    "}\n",
    "\n",
    "\n",
    "basic_data_complex_transforms_nonbalanced = basic_train_model(dataloaders=one_hundred_target_complex_dataloaders_nonbalanced, epochs=num_epochs, alpha=0.001,\n",
    "                                         name='100 targets with nonbalanced data, complex transforms', clear_cuda_cache=True)\n",
    "print(basic_data_complex_transforms_nonbalanced['run_time'])\n",
    "# Clear the cache\n",
    "basic_data_complex_transforms_nonbalanced['model'] = None\n",
    "cuda.empty_cache()"
   ]
  },
  {
   "cell_type": "code",
   "execution_count": 76,
   "metadata": {},
   "outputs": [
    {
     "data": {
      "text/plain": [
       "<matplotlib.axes._subplots.AxesSubplot at 0x2b991fc4780>"
      ]
     },
     "execution_count": 76,
     "metadata": {},
     "output_type": "execute_result"
    },
    {
     "data": {
      "image/png": "[encoded data removed]",
      "text/plain": [
       "<Figure size 432x288 with 1 Axes>"
      ]
     },
     "metadata": {
      "needs_background": "light"
     },
     "output_type": "display_data"
    }
   ],
   "source": [
    "bdctnb = pd.DataFrame(basic_data_complex_transforms_nonbalanced['results'])\n",
    "bdctnb = bdctnb[['epoch', 'train_loss', 'val_loss', 'test_accuracy']]\n",
    "bdctnb = bdctnb.set_index('epoch')\n",
    "bdctnb.plot(title='100 targets with nonbalanced data, complex transforms')"
   ]
  },
  {
   "cell_type": "code",
   "execution_count": null,
   "metadata": {},
   "outputs": [],
   "source": []
  },
  {
   "cell_type": "code",
   "execution_count": null,
   "metadata": {},
   "outputs": [],
   "source": []
  },
  {
   "cell_type": "code",
   "execution_count": null,
   "metadata": {},
   "outputs": [],
   "source": []
  }
 ],
 "metadata": {
  "kernelspec": {
   "display_name": "Python 3",
   "language": "python",
   "name": "python3"
  },
  "language_info": {
   "codemirror_mode": {
    "name": "ipython",
    "version": 3
   },
   "file_extension": ".py",
   "mimetype": "text/x-python",
   "name": "python",
   "nbconvert_exporter": "python",
   "pygments_lexer": "ipython3",
   "version": "3.7.2"
  }
 },
 "nbformat": 4,
 "nbformat_minor": 2
}
