{
 "cells": [
  {
   "cell_type": "code",
   "execution_count": 67,
   "metadata": {},
   "outputs": [],
   "source": [
    "# Python setup\n",
    "%reload_ext autoreload\n",
    "%autoreload 2\n",
    "%matplotlib inline\n",
    "\n",
    "from pathlib import Path\n",
    "from torchvision import transforms\n",
    "from torchvision import datasets\n",
    "from torch.utils.data import DataLoader, Sampler, Subset\n",
    "from torchvision import models\n",
    "import torch.nn as nn\n",
    "from torch import optim, cuda\n",
    "import torch\n",
    "from datetime import datetime\n",
    "import pandas as pd"
   ]
  },
  {
   "cell_type": "code",
   "execution_count": 2,
   "metadata": {},
   "outputs": [],
   "source": [
    "# Setting up paths\n",
    "base_path = Path('./clean_data/').absolute()\n",
    "raw_base_path = base_path / 'motorcycles'\n",
    "raw_train_path = str(raw_base_path / 'train')\n",
    "raw_val_path = str(raw_base_path / 'val')\n",
    "raw_test_path = str(raw_base_path / 'test')\n",
    "square_base_path = base_path / 'square_motorcycles'\n",
    "square_train_path = str(square_base_path / 'train')\n",
    "square_val_path = str(square_base_path / 'val')\n",
    "square_test_path = str(square_base_path / 'test')"
   ]
  },
  {
   "cell_type": "code",
   "execution_count": 187,
   "metadata": {},
   "outputs": [],
   "source": [
    "\n",
    "\n",
    "def get_model(num_classes):\n",
    "    '''\n",
    "    Creates a resnet-50 pretrained model and replaces the classifier with a new classifier\n",
    "    '''\n",
    "    model = models.resnet34(pretrained=True)\n",
    "\n",
    "    for param in model.parameters():\n",
    "        param.requires_grad = False\n",
    "\n",
    "    num_inputs = model.fc.in_features\n",
    "    model.fc = nn.Sequential(nn.Linear(num_inputs, 256),\n",
    "                                       nn.ReLU(),\n",
    "                                       # Get rid of dropout. I will re-evaluate later\n",
    "                                       nn.Dropout(0.4),\n",
    "                                       nn.Linear(256, num_classes),\n",
    "                                       nn.LogSoftmax(dim=1))\n",
    "    # Move to the GPU\n",
    "    model = model.to('cuda')\n",
    "    return model"
   ]
  },
  {
   "cell_type": "code",
   "execution_count": 171,
   "metadata": {},
   "outputs": [],
   "source": [
    "def forward_pass(model, dataloader, criterion, num_images, clear_cuda_cache=True):\n",
    "    '''\n",
    "    Performs a forward pass getting loss and accuracy, without modifying the model\n",
    "    model: A pytorch NN \n",
    "    data A pytorch Dataloader\n",
    "    clear_cuda_cache: Do we want to clear cuda memory when possible?\n",
    "    num_images: Int representing the number of images being processed. This is needed because\n",
    "                a sampler might return fewer results than the total dataset.\n",
    "    '''\n",
    "    total_loss = 0\n",
    "   \n",
    "    with torch.no_grad():\n",
    "        model.eval()\n",
    "        \n",
    "        for data, target in dataloader:\n",
    "            data = data.to('cuda')\n",
    "            target = target.to('cuda')\n",
    "            result = model(data)\n",
    "            loss = criterion(result, target)\n",
    "            batch_loss = loss.item() * data.size(0)\n",
    "            total_loss += batch_loss\n",
    "            if clear_cuda_cache is True:\n",
    "                data = None\n",
    "                target = None\n",
    "                cuda.empty_cache()\n",
    "    mean_loss = total_loss / num_images\n",
    "    return({'mean_loss': mean_loss})\n",
    "        "
   ]
  },
  {
   "cell_type": "code",
   "execution_count": 174,
   "metadata": {},
   "outputs": [],
   "source": [
    "def get_accuracy(model, dataloader, num_images, clear_cuda_cache=True):\n",
    "    '''\n",
    "    Performs a forward pass getting loss and accuracy, without modifying the model\n",
    "    model: A pytorch NN \n",
    "    data A pytorch Dataloader\n",
    "    clear_cuda_cache: Do we want to clear cuda memory when possible?\n",
    "    num_images: Int representing the number of images being processed. This is needed because\n",
    "                a sampler might return fewer results than the total dataset.\n",
    "    '''\n",
    "    \n",
    "    correct_predictions = 0\n",
    "    with torch.no_grad():\n",
    "        model.eval()\n",
    "        \n",
    "        for data, target in dataloader:\n",
    "            data = data.to('cuda')\n",
    "            target = target.to('cuda')\n",
    "            result = model(data)\n",
    "            _, predicted = torch.max(result.data, 1)\n",
    "            # Get accurate images\n",
    "            correct_predictions += (predicted == target).sum().item()\n",
    "            if clear_cuda_cache is True:\n",
    "                data = None\n",
    "                target = None\n",
    "                cuda.empty_cache()\n",
    "    return correct_predictions / num_images"
   ]
  },
  {
   "cell_type": "code",
   "execution_count": 192,
   "metadata": {},
   "outputs": [],
   "source": [
    "# See https://machinelearningmastery.com/adam-optimization-algorithm-for-deep-learning/ for hyperparameters\n",
    "# hyper parameters are set to the research recommendations\n",
    "def basic_train_model(dataloaders, epochs, clear_cuda_cache=True, name='basic model',\n",
    "                      alpha=.001, beta1=0.9, beta2=0.999, epsilon=10e-8, weight_decay=0):\n",
    "    '''\n",
    "    Very-early training function. Not much here, but the basics to train the\n",
    "    model and report loss and cuda memory\n",
    "    dataloader: A Pytorch dataloader with train, validation and test datasets. All dataloaders\n",
    "                should have the same number of classes\n",
    "    clear_cuda_cache: Boolean telling us to clear the cuda cache when possible\n",
    "    name: String with a name to give the model.\n",
    "    '''\n",
    "    start_time = datetime.now()\n",
    "    results = []\n",
    "    cuda_memory = []\n",
    "    \n",
    "    # The model changes with the number of classes, so we need to get that number.\n",
    "    # A dataset with a sampler, may not include all classes in the dataset, so we\n",
    "    # need to iterate to find the distinct classes\n",
    "    # We also need the number of images, with the same constraints as classes. We\n",
    "    # will calculate it here for accuracy\n",
    "    included_classes = []\n",
    "    num_images = 0\n",
    "    for item in dataloaders['train']:\n",
    "        included_classes = included_classes + item[1].tolist()\n",
    "        num_images += len(item[1])\n",
    "    num_classes = len(set(included_classes))\n",
    "    \n",
    "    # Get the number of val images returned in the dataloader. It could be a subset of the dataset if a sampler\n",
    "    # is used\n",
    "    num_val_images = 0\n",
    "    for item in dataloaders['val']:\n",
    "        num_val_images += len(item[1])\n",
    "        \n",
    "    # Get the number of images returned in the dataloader. It could be a subset of the dataset if a sampler\n",
    "    # is used\n",
    "    num_test_images = 0\n",
    "    for item in dataloaders['test']:\n",
    "        num_test_images += len(item[1])\n",
    "\n",
    "    model = get_model(num_classes)\n",
    "\n",
    "    criterion = nn.NLLLoss()\n",
    "    optimizer = optim.Adam(model.parameters(), lr=alpha, betas=(beta1, beta2), \n",
    "                           eps=epsilon, weight_decay=weight_decay)\n",
    "\n",
    "    for epoch in range(epochs):\n",
    "        print(f'Epoch: {epoch + 1}')\n",
    "        train_loss = 0.0\n",
    "        for data, targets in dataloaders['train']:\n",
    "            #Get cuda memory\n",
    "            cuda_memory.append({\n",
    "                'name': name,\n",
    "                'timestamp': datetime.now(),\n",
    "                'cuda_memory': cuda.memory_allocated()})\n",
    "            data = data.to('cuda')\n",
    "            targets = targets.to('cuda')\n",
    "            cuda_memory.append({\n",
    "                'name': name,\n",
    "                'timestamp': datetime.now(),\n",
    "                'cuda_memory': cuda.memory_allocated()})\n",
    "            # Clear the gradients\n",
    "            optimizer.zero_grad()\n",
    "            out = model(data)\n",
    "            loss = criterion(out, targets)\n",
    "            loss.backward()\n",
    "            # Get loss for the batch\n",
    "            batch_loss = loss.item() * data.size(0)\n",
    "            train_loss += batch_loss\n",
    "            optimizer.step()\n",
    "            #Get cuda memory\n",
    "            cuda_memory.append({\n",
    "                'name': name,\n",
    "                'timestamp': datetime.now(),\n",
    "                'cuda_memory': cuda.memory_allocated()})\n",
    "            # Clear the batch from cuda memory. It is no longer needed\n",
    "            if clear_cuda_cache is True:\n",
    "                data = None\n",
    "                targets = None\n",
    "                cuda.empty_cache()\n",
    "        \n",
    "        mean_train_loss = train_loss / num_images\n",
    "\n",
    "        # Get train accuracy to see if the model is learning at all\n",
    "        train_accuracy = get_accuracy(model, dataloaders['train'], num_images)\n",
    "        # Get validation loss\n",
    "       \n",
    "        validation_results = forward_pass(model, dataloaders['val'], criterion, num_images=num_val_images,\n",
    "                                          clear_cuda_cache=clear_cuda_cache)\n",
    "        # Get test accuracy\n",
    "        test_accuracy = get_accuracy(model, dataloaders['test'], num_test_images)\n",
    "        \n",
    "        print(f'Train_loss: {mean_train_loss}, Train accuracy: {train_accuracy}, Val loss: {validation_results[\"mean_loss\"]}, Test Accuracy: {test_accuracy}')\n",
    "        results.append({\n",
    "            'epoch': epoch + 1,\n",
    "            'train_loss': mean_train_loss,\n",
    "            'train_accuracy': train_accuracy,\n",
    "            'val_loss': validation_results['mean_loss'],\n",
    "            'test_accuracy': test_accuracy})\n",
    "        \n",
    "    end_time = datetime.now()\n",
    "    return {'model': model, 'name': name, 'results': results, 'cuda_memory': cuda_memory, \n",
    "            'run_time': end_time - start_time}"
   ]
  },
  {
   "cell_type": "code",
   "execution_count": null,
   "metadata": {},
   "outputs": [],
   "source": []
  },
  {
   "cell_type": "code",
   "execution_count": null,
   "metadata": {},
   "outputs": [],
   "source": []
  },
  {
   "cell_type": "code",
   "execution_count": 7,
   "metadata": {},
   "outputs": [],
   "source": [
    "\n",
    "batch_size = 256\n",
    "\n",
    "basic_transforms = {\n",
    "    'train': transforms.Compose([\n",
    "        transforms.Resize(size=256),\n",
    "        transforms.CenterCrop(size=224),\n",
    "        transforms.ToTensor(),\n",
    "        # Normalize using same mean, std as imagenet\n",
    "        transforms.Normalize([0.485, 0.456, 0.406], [0.229, 0.224, 0.225])\n",
    "    ]),\n",
    "    'valid': transforms.Compose([\n",
    "        transforms.Resize(size=256),\n",
    "        transforms.CenterCrop(size=224),\n",
    "        transforms.ToTensor(),\n",
    "        # Normalize using same mean, std as ResNet\n",
    "        transforms.Normalize([0.485, 0.456, 0.406], [0.229, 0.224, 0.225])\n",
    "    ])\n",
    "}\n",
    "basic_data = {\n",
    "    'train': datasets.ImageFolder(root=raw_train_path, transform = basic_transforms['train'] ),\n",
    "    'valid': datasets.ImageFolder(root=raw_val_path, transform = basic_transforms['valid']),\n",
    "    'test': datasets.ImageFolder(root=raw_val_path, transform = basic_transforms['valid'])\n",
    "}\n",
    "\n",
    "basic_dataloaders = {\n",
    "    'train': DataLoader(basic_data['train'], batch_size=batch_size, shuffle=True),\n",
    "    'val': DataLoader(basic_data['valid'], batch_size=batch_size, shuffle=True),\n",
    "    'test': DataLoader(basic_data['test'], batch_size=batch_size, shuffle=True),\n",
    "    \n",
    "}\n",
    "\n",
    "\n",
    "complex_transforms = {\n",
    "    'train': transforms.Compose([\n",
    "        transforms.RandomResizedCrop(size=256, scale=(0.8, 1.0)),\n",
    "        transforms.RandomRotation(degrees=15),\n",
    "        transforms.ColorJitter(),\n",
    "        transforms.RandomHorizontalFlip(),\n",
    "        transforms.CenterCrop(size=224),\n",
    "        transforms.ToTensor(),\n",
    "        # Normalize using same mean, std as imagenet\n",
    "        transforms.Normalize([0.485, 0.456, 0.406], [0.229, 0.224, 0.225])\n",
    "    ]),\n",
    "    'valid': transforms.Compose([\n",
    "        transforms.Resize(size=256),\n",
    "        transforms.CenterCrop(size=224),\n",
    "        transforms.ToTensor(),\n",
    "        # Normalize using same mean, std as ResNet\n",
    "        transforms.Normalize([0.485, 0.456, 0.406], [0.229, 0.224, 0.225])\n",
    "    ])\n",
    "}\n",
    "complex_data = {\n",
    "    'train': datasets.ImageFolder(root=raw_train_path, transform = complex_transforms['train'] ),\n",
    "    'valid': datasets.ImageFolder(root=raw_val_path, transform = complex_transforms['valid']),\n",
    "     'test': datasets.ImageFolder(root=raw_val_path, transform = complex_transforms['valid'])\n",
    "}\n",
    "\n",
    "complex_dataloaders = {\n",
    "    'train': DataLoader(complex_data['train'], batch_size=batch_size, shuffle=True),\n",
    "    'val': DataLoader(complex_data['valid'], batch_size=batch_size, shuffle=True),\n",
    "    'test': DataLoader(complex_data['test'], batch_size=batch_size, shuffle=True)\n",
    "}\n",
    "\n"
   ]
  },
  {
   "cell_type": "code",
   "execution_count": 117,
   "metadata": {},
   "outputs": [],
   "source": [
    "class TargetSampler(Sampler):\n",
    "    '''\n",
    "    Sampler base on the number of targets we want. Rather than random sampling from all \n",
    "    targets, which may not have the same targets as test and train, we pull all images from \n",
    "    the first x number of targets\n",
    "    \n",
    "    This was extremely slow at first, because I was iterating through the data instead of \n",
    "    just the targets. Now it takes no noticable time\n",
    "\n",
    "    '''\n",
    "    def __init__(self, data, num_targets):\n",
    "        '''\n",
    "        data: A pytorch dataset (In this case, an ImageFolder)\n",
    "        num_targets: Int representing the first X targets to use.\n",
    "        '''\n",
    "        self.num_targets = num_targets\n",
    "        self.data = data\n",
    "    \n",
    "    def __iter__(self):\n",
    "        indices = []\n",
    "        for index, target in enumerate(self.data.targets):\n",
    "            # Add the indice if the target is in range\n",
    "            if target < self.num_targets:\n",
    "                indices.append(index)\n",
    "        return iter(indices)\n",
    "    \n",
    "    def __len__(self):\n",
    "        # Count the number of images in the target range\n",
    "        # The image is a tuple, with image[1] being the target\n",
    "        return len([i for i in self.data.targets if i < self.num_targets])\n"
   ]
  },
  {
   "cell_type": "code",
   "execution_count": 8,
   "metadata": {},
   "outputs": [
    {
     "name": "stdout",
     "output_type": "stream",
     "text": [
      "Epoch: 1\n",
      "Train_loss: 6.0177752143849945, Val loss: 5.899059706553275, Test Accuracy: 0.001455604075691412\n",
      "Epoch: 2\n",
      "Train_loss: 5.8988028732170825, Val loss: 5.901377439845945, Test Accuracy: 0.0\n",
      "Epoch: 3\n",
      "Train_loss: 5.898333211559003, Val loss: 5.9057129925168415, Test Accuracy: 0.002911208151382824\n",
      "Epoch: 4\n",
      "Train_loss: 5.894493939507612, Val loss: 5.913139906859641, Test Accuracy: 0.001455604075691412\n",
      "Epoch: 5\n",
      "Train_loss: 5.902565272793813, Val loss: 5.927647323414054, Test Accuracy: 0.002911208151382824\n",
      "Epoch: 1\n",
      "Train_loss: 6.006949440245511, Val loss: 5.9045275239791755, Test Accuracy: 0.001455604075691412\n",
      "Epoch: 2\n",
      "Train_loss: 5.911624171798964, Val loss: 5.922371058484873, Test Accuracy: 0.001455604075691412\n",
      "Epoch: 3\n",
      "Train_loss: 5.913269769695862, Val loss: 5.932730499139867, Test Accuracy: 0.001455604075691412\n",
      "Epoch: 4\n",
      "Train_loss: 5.904653520670917, Val loss: 5.940287569898358, Test Accuracy: 0.0\n",
      "Epoch: 5\n",
      "Train_loss: 5.89322919436332, Val loss: 5.948234551858694, Test Accuracy: 0.001455604075691412\n"
     ]
    }
   ],
   "source": [
    "raw_results_clear_cache = basic_train_model(dataloaders=basic_dataloaders, epochs=5, alpha=0.003,\n",
    "                                            name='Basic images with basic transforms with clear', clear_cuda_cache=True)\n",
    "\n",
    "complex_results_clear_cache = basic_train_model(dataloaders=complex_dataloaders, epochs=5, alpha=0.003,\n",
    "                                            name='Basic images with complex transforms with clear', clear_cuda_cache=True)"
   ]
  },
  {
   "cell_type": "code",
   "execution_count": 10,
   "metadata": {},
   "outputs": [
    {
     "data": {
      "text/plain": [
       "<matplotlib.axes._subplots.AxesSubplot at 0x132046dc898>"
      ]
     },
     "execution_count": 10,
     "metadata": {},
     "output_type": "execute_result"
    },
    {
     "data": {
      "image/png": "[encoded data removed]",
      "text/plain": [
       "<Figure size 432x720 with 1 Axes>"
      ]
     },
     "metadata": {
      "needs_background": "light"
     },
     "output_type": "display_data"
    }
   ],
   "source": [
    "basic_results = pd.DataFrame(raw_results_clear_cache['results'])\n",
    "basic_results.set_index('epoch')\n",
    "basic_results.iloc[:,2:].plot(figsize=(6, 10))"
   ]
  },
  {
   "cell_type": "code",
   "execution_count": 11,
   "metadata": {},
   "outputs": [
    {
     "data": {
      "text/plain": [
       "<matplotlib.axes._subplots.AxesSubplot at 0x1320dcd7898>"
      ]
     },
     "execution_count": 11,
     "metadata": {},
     "output_type": "execute_result"
    },
    {
     "data": {
      "image/png": "[encoded data removed]",
      "text/plain": [
       "<Figure size 432x720 with 1 Axes>"
      ]
     },
     "metadata": {
      "needs_background": "light"
     },
     "output_type": "display_data"
    }
   ],
   "source": [
    "basic_results.iloc[:,1].plot(figsize=(6, 10))"
   ]
  },
  {
   "cell_type": "code",
   "execution_count": 12,
   "metadata": {},
   "outputs": [
    {
     "data": {
      "text/plain": [
       "<matplotlib.axes._subplots.AxesSubplot at 0x1320ba180f0>"
      ]
     },
     "execution_count": 12,
     "metadata": {},
     "output_type": "execute_result"
    },
    {
     "data": {
      "image/png": "[encoded data removed]",
      "text/plain": [
       "<Figure size 432x720 with 1 Axes>"
      ]
     },
     "metadata": {
      "needs_background": "light"
     },
     "output_type": "display_data"
    }
   ],
   "source": [
    "complex_results = pd.DataFrame(raw_results_clear_cache['results'])\n",
    "complex_results.set_index('epoch')\n",
    "complex_results.iloc[:,2:].plot(figsize=(6, 10))"
   ]
  },
  {
   "cell_type": "code",
   "execution_count": 13,
   "metadata": {
    "scrolled": true
   },
   "outputs": [
    {
     "data": {
      "text/plain": [
       "<matplotlib.axes._subplots.AxesSubplot at 0x1320dd57320>"
      ]
     },
     "execution_count": 13,
     "metadata": {},
     "output_type": "execute_result"
    },
    {
     "data": {
      "image/png": "[encoded data removed]",
      "text/plain": [
       "<Figure size 432x720 with 1 Axes>"
      ]
     },
     "metadata": {
      "needs_background": "light"
     },
     "output_type": "display_data"
    }
   ],
   "source": [
    "complex_results.iloc[:,1].plot(figsize=(6, 10))"
   ]
  },
  {
   "cell_type": "markdown",
   "metadata": {},
   "source": [
    "Playing with less data, to improve ability to tune"
   ]
  },
  {
   "cell_type": "code",
   "execution_count": 183,
   "metadata": {},
   "outputs": [],
   "source": [
    "\n",
    "\n",
    "train_sampler = TargetSampler(complex_data['train'], num_targets=2)\n",
    "val_sampler = TargetSampler(complex_data['valid'], num_targets=2)\n",
    "test_sampler = TargetSampler(complex_data['test'], num_targets=2)\n",
    "\n",
    "ten_target_dataloaders = {\n",
    "    'train': DataLoader(complex_data['train'], batch_size=128, sampler=train_sampler, shuffle=False),\n",
    "    'val': DataLoader(complex_data['valid'], batch_size=128, sampler=val_sampler, shuffle=False),\n",
    "    'test': DataLoader(complex_data['test'], batch_size=128, sampler=test_sampler, shuffle=False)\n",
    "}\n"
   ]
  },
  {
   "cell_type": "code",
   "execution_count": null,
   "metadata": {},
   "outputs": [
    {
     "name": "stdout",
     "output_type": "stream",
     "text": [
      "Epoch: 1\n",
      "Train_loss: 0.7617332935333252, Train accuracy: 0.5, Val loss: 0.8120134472846985, Test Accuracy: 0.5\n",
      "Epoch: 2\n",
      "Train_loss: 0.7067155241966248, Train accuracy: 0.5, Val loss: 0.8339533805847168, Test Accuracy: 0.5\n",
      "Epoch: 3\n",
      "Train_loss: 0.6329320073127747, Train accuracy: 0.75, Val loss: 0.901364803314209, Test Accuracy: 0.5\n",
      "Epoch: 4\n",
      "Train_loss: 0.6384479999542236, Train accuracy: 0.875, Val loss: 0.9313985109329224, Test Accuracy: 0.0\n",
      "Epoch: 5\n",
      "Train_loss: 0.6002687811851501, Train accuracy: 0.75, Val loss: 0.9825594425201416, Test Accuracy: 0.0\n",
      "Epoch: 6\n",
      "Train_loss: 0.460521399974823, Train accuracy: 0.875, Val loss: 1.0649712085723877, Test Accuracy: 0.0\n",
      "Epoch: 7\n",
      "Train_loss: 0.5630374550819397, Train accuracy: 0.625, Val loss: 1.1700172424316406, Test Accuracy: 0.25\n",
      "Epoch: 8\n",
      "Train_loss: 0.5485527515411377, Train accuracy: 0.875, Val loss: 1.2096378803253174, Test Accuracy: 0.0\n",
      "Epoch: 9\n",
      "Train_loss: 0.5303010940551758, Train accuracy: 0.75, Val loss: 1.2620372772216797, Test Accuracy: 0.0\n",
      "Epoch: 10\n",
      "Train_loss: 0.41235798597335815, Train accuracy: 0.75, Val loss: 1.341797113418579, Test Accuracy: 0.0\n",
      "Epoch: 11\n",
      "Train_loss: 0.5601328015327454, Train accuracy: 0.75, Val loss: 1.420623779296875, Test Accuracy: 0.0\n",
      "Epoch: 12\n",
      "Train_loss: 0.5330624580383301, Train accuracy: 0.5, Val loss: 1.4997929334640503, Test Accuracy: 0.0\n",
      "Epoch: 13\n",
      "Train_loss: 0.49227821826934814, Train accuracy: 0.75, Val loss: 1.5380752086639404, Test Accuracy: 0.0\n",
      "Epoch: 14\n",
      "Train_loss: 0.5278571844100952, Train accuracy: 0.75, Val loss: 1.5921305418014526, Test Accuracy: 0.25\n",
      "Epoch: 15\n",
      "Train_loss: 0.41465118527412415, Train accuracy: 0.75, Val loss: 1.6811010837554932, Test Accuracy: 0.25\n",
      "Epoch: 16\n",
      "Train_loss: 0.44136756658554077, Train accuracy: 0.75, Val loss: 1.7437777519226074, Test Accuracy: 0.25\n",
      "Epoch: 17\n",
      "Train_loss: 0.4993647634983063, Train accuracy: 0.75, Val loss: 1.763074517250061, Test Accuracy: 0.0\n",
      "Epoch: 18\n",
      "Train_loss: 0.3656924366950989, Train accuracy: 0.75, Val loss: 1.8245549201965332, Test Accuracy: 0.0\n",
      "Epoch: 19\n",
      "Train_loss: 0.36189424991607666, Train accuracy: 0.75, Val loss: 1.9118094444274902, Test Accuracy: 0.0\n",
      "Epoch: 20\n",
      "Train_loss: 0.43310996890068054, Train accuracy: 0.75, Val loss: 1.938708782196045, Test Accuracy: 0.0\n",
      "Epoch: 21\n",
      "Train_loss: 0.32532986998558044, Train accuracy: 0.75, Val loss: 1.984979271888733, Test Accuracy: 0.0\n",
      "Epoch: 22\n",
      "Train_loss: 0.4292116165161133, Train accuracy: 0.75, Val loss: 2.0820045471191406, Test Accuracy: 0.25\n",
      "Epoch: 23\n",
      "Train_loss: 0.5381275415420532, Train accuracy: 0.75, Val loss: 2.140807628631592, Test Accuracy: 0.25\n",
      "Epoch: 24\n",
      "Train_loss: 0.46245521306991577, Train accuracy: 0.75, Val loss: 2.166712522506714, Test Accuracy: 0.25\n",
      "Epoch: 25\n",
      "Train_loss: 0.32016903162002563, Train accuracy: 0.75, Val loss: 2.1748363971710205, Test Accuracy: 0.0\n",
      "Epoch: 26\n",
      "Train_loss: 0.3932383060455322, Train accuracy: 1.0, Val loss: 2.1967523097991943, Test Accuracy: 0.0\n",
      "Epoch: 27\n",
      "Train_loss: 0.4330841302871704, Train accuracy: 0.875, Val loss: 2.2234792709350586, Test Accuracy: 0.0\n",
      "Epoch: 28\n",
      "Train_loss: 0.4181886315345764, Train accuracy: 0.625, Val loss: 2.2625858783721924, Test Accuracy: 0.0\n",
      "Epoch: 29\n",
      "Train_loss: 0.44398629665374756, Train accuracy: 0.75, Val loss: 2.3345324993133545, Test Accuracy: 0.0\n",
      "Epoch: 30\n",
      "Train_loss: 0.5464864373207092, Train accuracy: 0.75, Val loss: 2.410658359527588, Test Accuracy: 0.25\n",
      "Epoch: 31\n",
      "Train_loss: 0.482801616191864, Train accuracy: 0.75, Val loss: 2.4657082557678223, Test Accuracy: 0.25\n",
      "Epoch: 32\n",
      "Train_loss: 0.4456590414047241, Train accuracy: 0.75, Val loss: 2.4584391117095947, Test Accuracy: 0.25\n",
      "Epoch: 33\n",
      "Train_loss: 0.5462879538536072, Train accuracy: 0.875, Val loss: 2.433295249938965, Test Accuracy: 0.0\n",
      "Epoch: 34\n",
      "Train_loss: 0.42301446199417114, Train accuracy: 0.75, Val loss: 2.443498134613037, Test Accuracy: 0.0\n",
      "Epoch: 35\n",
      "Train_loss: 0.5246138572692871, Train accuracy: 0.75, Val loss: 2.4697632789611816, Test Accuracy: 0.0\n",
      "Epoch: 36\n",
      "Train_loss: 0.4440110921859741, Train accuracy: 0.75, Val loss: 2.468475341796875, Test Accuracy: 0.0\n",
      "Epoch: 37\n",
      "Train_loss: 0.4243622422218323, Train accuracy: 0.75, Val loss: 2.4947078227996826, Test Accuracy: 0.0\n",
      "Epoch: 38\n",
      "Train_loss: 0.3868253231048584, Train accuracy: 0.75, Val loss: 2.565819025039673, Test Accuracy: 0.25\n",
      "Epoch: 39\n",
      "Train_loss: 0.371706485748291, Train accuracy: 0.75, Val loss: 2.616386651992798, Test Accuracy: 0.25\n",
      "Epoch: 40\n",
      "Train_loss: 0.44316965341567993, Train accuracy: 0.75, Val loss: 2.6094260215759277, Test Accuracy: 0.25\n",
      "Epoch: 41\n",
      "Train_loss: 0.3450877368450165, Train accuracy: 0.75, Val loss: 2.5799672603607178, Test Accuracy: 0.25\n",
      "Epoch: 42\n",
      "Train_loss: 0.523006021976471, Train accuracy: 0.625, Val loss: 2.5498127937316895, Test Accuracy: 0.0\n",
      "Epoch: 43\n",
      "Train_loss: 0.41184014081954956, Train accuracy: 0.75, Val loss: 2.5492212772369385, Test Accuracy: 0.0\n",
      "Epoch: 44\n",
      "Train_loss: 0.4350327253341675, Train accuracy: 0.625, Val loss: 2.5592520236968994, Test Accuracy: 0.0\n",
      "Epoch: 45\n",
      "Train_loss: 0.5235767364501953, Train accuracy: 0.75, Val loss: 2.5630881786346436, Test Accuracy: 0.0\n",
      "Epoch: 46\n",
      "Train_loss: 0.41333621740341187, Train accuracy: 0.75, Val loss: 2.5895488262176514, Test Accuracy: 0.0\n",
      "Epoch: 47\n",
      "Train_loss: 0.4022201597690582, Train accuracy: 0.625, Val loss: 2.634146213531494, Test Accuracy: 0.25\n",
      "Epoch: 48\n",
      "Train_loss: 0.3796134293079376, Train accuracy: 0.75, Val loss: 2.6629672050476074, Test Accuracy: 0.25\n",
      "Epoch: 49\n",
      "Train_loss: 0.4173443913459778, Train accuracy: 0.75, Val loss: 2.6830403804779053, Test Accuracy: 0.25\n",
      "Epoch: 50\n",
      "Train_loss: 0.25143924355506897, Train accuracy: 0.625, Val loss: 2.6899118423461914, Test Accuracy: 0.25\n",
      "Epoch: 51\n",
      "Train_loss: 0.3788318634033203, Train accuracy: 0.5, Val loss: 2.670267343521118, Test Accuracy: 0.0\n",
      "Epoch: 52\n",
      "Train_loss: 0.3429223299026489, Train accuracy: 0.875, Val loss: 2.6745479106903076, Test Accuracy: 0.0\n",
      "Epoch: 53\n",
      "Train_loss: 0.36230891942977905, Train accuracy: 0.75, Val loss: 2.6991465091705322, Test Accuracy: 0.0\n",
      "Epoch: 54\n",
      "Train_loss: 0.5002231597900391, Train accuracy: 0.75, Val loss: 2.7285690307617188, Test Accuracy: 0.0\n",
      "Epoch: 55\n",
      "Train_loss: 0.4822031557559967, Train accuracy: 0.75, Val loss: 2.7767601013183594, Test Accuracy: 0.25\n",
      "Epoch: 56\n",
      "Train_loss: 0.6439265012741089, Train accuracy: 0.75, Val loss: 2.784261465072632, Test Accuracy: 0.25\n",
      "Epoch: 57\n",
      "Train_loss: 0.34664463996887207, Train accuracy: 0.75, Val loss: 2.7532243728637695, Test Accuracy: 0.25\n",
      "Epoch: 58\n",
      "Train_loss: 0.3416403532028198, Train accuracy: 0.875, Val loss: 2.713024616241455, Test Accuracy: 0.0\n",
      "Epoch: 59\n",
      "Train_loss: 0.36720535159111023, Train accuracy: 0.75, Val loss: 2.702784299850464, Test Accuracy: 0.0\n",
      "Epoch: 60\n",
      "Train_loss: 0.6183909177780151, Train accuracy: 0.75, Val loss: 2.7118420600891113, Test Accuracy: 0.0\n",
      "Epoch: 61\n",
      "Train_loss: 0.38515883684158325, Train accuracy: 0.75, Val loss: 2.72426176071167, Test Accuracy: 0.0\n",
      "Epoch: 62\n",
      "Train_loss: 0.44342273473739624, Train accuracy: 0.625, Val loss: 2.7255358695983887, Test Accuracy: 0.0\n",
      "Epoch: 63\n"
     ]
    }
   ],
   "source": [
    "ten_target_model = basic_train_model(dataloaders=ten_target_dataloaders, epochs=100, alpha=0.001,\n",
    "                                     name='Ten targets', clear_cuda_cache=True)\n",
    "print(ten_target_model['run_time'])"
   ]
  },
  {
   "cell_type": "code",
   "execution_count": 168,
   "metadata": {},
   "outputs": [
    {
     "data": {
      "text/plain": [
       "datetime.timedelta(seconds=198, microseconds=84559)"
      ]
     },
     "execution_count": 168,
     "metadata": {},
     "output_type": "execute_result"
    }
   ],
   "source": [
    "ten_target_model['run_time']"
   ]
  },
  {
   "cell_type": "code",
   "execution_count": 170,
   "metadata": {},
   "outputs": [],
   "source": [
    "included_classes = []\n",
    "num_images = 0\n",
    "for item in ten_target_dataloaders['train']:\n",
    "    included_classes = included_classes + item[1].tolist()\n",
    "    num_images += len(item[1])\n",
    "num_classes = len(set(included_classes))"
   ]
  },
  {
   "cell_type": "code",
   "execution_count": null,
   "metadata": {},
   "outputs": [],
   "source": []
  }
 ],
 "metadata": {
  "kernelspec": {
   "display_name": "Python 3",
   "language": "python",
   "name": "python3"
  },
  "language_info": {
   "codemirror_mode": {
    "name": "ipython",
    "version": 3
   },
   "file_extension": ".py",
   "mimetype": "text/x-python",
   "name": "python",
   "nbconvert_exporter": "python",
   "pygments_lexer": "ipython3",
   "version": "3.7.2"
  }
 },
 "nbformat": 4,
 "nbformat_minor": 2
}
